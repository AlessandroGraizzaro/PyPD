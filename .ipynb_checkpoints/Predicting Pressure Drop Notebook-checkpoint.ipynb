{
 "cells": [
  {
   "cell_type": "markdown",
   "metadata": {},
   "source": [
    "# Introduction and Background"
   ]
  },
  {
   "cell_type": "markdown",
   "metadata": {},
   "source": [
    "A method for calculating pressure drop in CMF (Coriolis Mass Flow Meters) was developed by Tony Pankratz and Gary Pawlas in 1995. This method improved upon the previous method of calculating pressure drop in the meters by improving accuracy of pressure drop in gaseous process fluids. \n",
    "\n",
    "A CMF meter can be though of as comprised of 3 major components:\n",
    "1. Straight tube sections\n",
    "2. Curved tube sections (bends)\n",
    "3. Flanges/manifolds\n",
    "Each of these components contributes to pressure drop. Therefore, each term is represented in the pressure drop equation derived in this paper"
   ]
  },
  {
   "cell_type": "markdown",
   "metadata": {},
   "source": [
    "The main equation used for calculating pressure drop, or $\\Delta P$ is Eq 1:\n",
    "<img src='imgs/eq1_annotated.png' alt='Eq 1' style='height: 170px;'/>"
   ]
  },
  {
   "cell_type": "markdown",
   "metadata": {},
   "source": [
    "This equation is only dependent on 3 things:\n",
    "1. meter geometry\n",
    "2. fluid properties\n",
    "3. tube roughness"
   ]
  },
  {
   "cell_type": "markdown",
   "metadata": {},
   "source": [
    "## Variable/Equation Definitions and Sources"
   ]
  },
  {
   "cell_type": "markdown",
   "metadata": {},
   "source": [
    "A summary of the variables and where they come from are in the following table:\n",
    "\n",
    "<img src='imgs/variable_table.png' alt='Variable Table' style='width: 600px;' />"
   ]
  },
  {
   "cell_type": "markdown",
   "metadata": {},
   "source": [
    "And a list of the equations used:\n",
    "<img src='imgs/all_eqns.png' style='height: 500px;'/>"
   ]
  },
  {
   "cell_type": "markdown",
   "metadata": {},
   "source": [
    "I won't go into all of the details of these equations since their derivation isn't the focus of this notebook. The details are in [Pressure Drop Prediction of Coriolis Mass Flowmeters](pd_paper.pdf)"
   ]
  },
  {
   "cell_type": "markdown",
   "metadata": {},
   "source": [
    "## Summary of Procedure:"
   ]
  },
  {
   "cell_type": "markdown",
   "metadata": {},
   "source": [
    "* **Step 1**: Collect and plot Pressure Drop ($\\Delta P$) vs Mass Flow Rate ($\\dot{m}$) data\n",
    "* **Step 2**: Obtain a curve fit equation for this $\\Delta P$ vs $\\dot{m}$ plot\n",
    "* **Step 3**: Calculate $K_M$ using Eq. 8 and $\\Delta P$ from Step 2\n",
    "* **Step 4**: Plot $K_M$ vs Re values\n",
    "* **Step 5**: Curve fit the plot from Step 4\n",
    "* **Step 6**: Use Eq 1 and all of the other calculated components to calculate $\\Delta P$"
   ]
  },
  {
   "cell_type": "markdown",
   "metadata": {},
   "source": [
    "# Working Through Sample CMF100 Data"
   ]
  },
  {
   "cell_type": "markdown",
   "metadata": {},
   "source": [
    "The data I'm going to use to set up my functions and work through an example comes from the paper mentioned above. It was collected on a CMF100 running water."
   ]
  },
  {
   "cell_type": "markdown",
   "metadata": {},
   "source": [
    "### Import Libraries"
   ]
  },
  {
   "cell_type": "code",
   "execution_count": 3,
   "metadata": {
    "collapsed": true
   },
   "outputs": [],
   "source": [
    "import matplotlib.pyplot as plt\n",
    "import pandas as pd\n",
    "import numpy as np\n",
    "%matplotlib inline"
   ]
  },
  {
   "cell_type": "markdown",
   "metadata": {},
   "source": [
    "### Import Sample Data"
   ]
  },
  {
   "cell_type": "code",
   "execution_count": 4,
   "metadata": {
    "collapsed": true
   },
   "outputs": [],
   "source": [
    "DATA_PATH = 'data\\\\cmf100_example_data.csv'"
   ]
  },
  {
   "cell_type": "code",
   "execution_count": 7,
   "metadata": {
    "collapsed": false
   },
   "outputs": [
    {
     "data": {
      "text/html": [
       "<div>\n",
       "<table border=\"1\" class=\"dataframe\">\n",
       "  <thead>\n",
       "    <tr style=\"text-align: right;\">\n",
       "      <th></th>\n",
       "      <th>mdot_lb_min</th>\n",
       "      <th>dp_psi</th>\n",
       "    </tr>\n",
       "  </thead>\n",
       "  <tbody>\n",
       "    <tr>\n",
       "      <th>0</th>\n",
       "      <td>13</td>\n",
       "      <td>0.05</td>\n",
       "    </tr>\n",
       "    <tr>\n",
       "      <th>1</th>\n",
       "      <td>40</td>\n",
       "      <td>0.19</td>\n",
       "    </tr>\n",
       "    <tr>\n",
       "      <th>2</th>\n",
       "      <td>60</td>\n",
       "      <td>0.32</td>\n",
       "    </tr>\n",
       "    <tr>\n",
       "      <th>3</th>\n",
       "      <td>80</td>\n",
       "      <td>0.49</td>\n",
       "    </tr>\n",
       "    <tr>\n",
       "      <th>4</th>\n",
       "      <td>111</td>\n",
       "      <td>0.82</td>\n",
       "    </tr>\n",
       "    <tr>\n",
       "      <th>5</th>\n",
       "      <td>120</td>\n",
       "      <td>0.93</td>\n",
       "    </tr>\n",
       "    <tr>\n",
       "      <th>6</th>\n",
       "      <td>140</td>\n",
       "      <td>1.19</td>\n",
       "    </tr>\n",
       "    <tr>\n",
       "      <th>7</th>\n",
       "      <td>160</td>\n",
       "      <td>1.48</td>\n",
       "    </tr>\n",
       "    <tr>\n",
       "      <th>8</th>\n",
       "      <td>180</td>\n",
       "      <td>1.81</td>\n",
       "    </tr>\n",
       "    <tr>\n",
       "      <th>9</th>\n",
       "      <td>210</td>\n",
       "      <td>2.35</td>\n",
       "    </tr>\n",
       "    <tr>\n",
       "      <th>10</th>\n",
       "      <td>220</td>\n",
       "      <td>2.55</td>\n",
       "    </tr>\n",
       "    <tr>\n",
       "      <th>11</th>\n",
       "      <td>240</td>\n",
       "      <td>2.96</td>\n",
       "    </tr>\n",
       "    <tr>\n",
       "      <th>12</th>\n",
       "      <td>260</td>\n",
       "      <td>3.41</td>\n",
       "    </tr>\n",
       "    <tr>\n",
       "      <th>13</th>\n",
       "      <td>280</td>\n",
       "      <td>3.89</td>\n",
       "    </tr>\n",
       "    <tr>\n",
       "      <th>14</th>\n",
       "      <td>309</td>\n",
       "      <td>4.64</td>\n",
       "    </tr>\n",
       "    <tr>\n",
       "      <th>15</th>\n",
       "      <td>320</td>\n",
       "      <td>4.94</td>\n",
       "    </tr>\n",
       "    <tr>\n",
       "      <th>16</th>\n",
       "      <td>340</td>\n",
       "      <td>5.51</td>\n",
       "    </tr>\n",
       "    <tr>\n",
       "      <th>17</th>\n",
       "      <td>360</td>\n",
       "      <td>6.11</td>\n",
       "    </tr>\n",
       "    <tr>\n",
       "      <th>18</th>\n",
       "      <td>380</td>\n",
       "      <td>6.75</td>\n",
       "    </tr>\n",
       "  </tbody>\n",
       "</table>\n",
       "</div>"
      ],
      "text/plain": [
       "    mdot_lb_min  dp_psi\n",
       "0            13    0.05\n",
       "1            40    0.19\n",
       "2            60    0.32\n",
       "3            80    0.49\n",
       "4           111    0.82\n",
       "5           120    0.93\n",
       "6           140    1.19\n",
       "7           160    1.48\n",
       "8           180    1.81\n",
       "9           210    2.35\n",
       "10          220    2.55\n",
       "11          240    2.96\n",
       "12          260    3.41\n",
       "13          280    3.89\n",
       "14          309    4.64\n",
       "15          320    4.94\n",
       "16          340    5.51\n",
       "17          360    6.11\n",
       "18          380    6.75"
      ]
     },
     "execution_count": 7,
     "metadata": {},
     "output_type": "execute_result"
    }
   ],
   "source": [
    "data = pd.read_csv(DATA_PATH)\n",
    "data"
   ]
  },
  {
   "cell_type": "markdown",
   "metadata": {},
   "source": [
    "## Step 1: pressure drop vs mass flow rate"
   ]
  },
  {
   "cell_type": "code",
   "execution_count": 13,
   "metadata": {
    "collapsed": false
   },
   "outputs": [
    {
     "data": {
      "text/plain": [
       "<matplotlib.axes._subplots.AxesSubplot at 0x96968d0>"
      ]
     },
     "execution_count": 13,
     "metadata": {},
     "output_type": "execute_result"
    },
    {
     "data": {
      "image/png": "[encoded data removed]",
      "text/plain": [
       "<matplotlib.figure.Figure at 0xaef9b70>"
      ]
     },
     "metadata": {},
     "output_type": "display_data"
    }
   ],
   "source": [
    "data.plot(kind='scatter',x='mdot_lb_min',y='dp_psi',grid=True)\n"
   ]
  },
  {
   "cell_type": "markdown",
   "metadata": {},
   "source": [
    "## Step 2: Fit a Curve to the Data from Step 1"
   ]
  },
  {
   "cell_type": "markdown",
   "metadata": {},
   "source": [
    "To fit this curve, we will use a least squares regression (a second order polynomial with a y-intercept of zero). The coefficients $B_1$ and $B_2$ in the following template equation will be given by this curve fit:\n",
    "\n",
    "$$\\Delta P = B_1\\cdot \\dot{m}^2+B_2\\cdot\\dot{m}+0 $$"
   ]
  },
  {
   "cell_type": "code",
   "execution_count": 24,
   "metadata": {
    "collapsed": true
   },
   "outputs": [],
   "source": [
    "from sklearn.preprocessing import PolynomialFeatures\n",
    "from sklearn.linear_model import LinearRegression"
   ]
  },
  {
   "cell_type": "code",
   "execution_count": 31,
   "metadata": {
    "collapsed": false
   },
   "outputs": [],
   "source": [
    "quadratic_featurizer = PolynomialFeatures(degree=2)\n",
    "X_train = data['mdot_lb_min'].reshape(-1,1)\n",
    "X_train_quadratic = quadratic_featurizer.fit_transform(X_train)"
   ]
  },
  {
   "cell_type": "code",
   "execution_count": 41,
   "metadata": {
    "collapsed": false
   },
   "outputs": [],
   "source": [
    "regressor_quadratic = LinearRegression()\n",
    "regressor_quadratic.fit(X_train_quadratic, data['dp_psi'])\n",
    "xx = np.linspace(0,400,100)\n",
    "a = regressor_quadratic.coef_[0]\n",
    "b1 = regressor_quadratic.coef_[1]\n",
    "b2 = regressor_quadratic.coef_[2]\n",
    "y = [a + b1*x + b2*x**2 for x in xx]"
   ]
  },
  {
   "cell_type": "code",
   "execution_count": 51,
   "metadata": {
    "collapsed": false
   },
   "outputs": [
    {
     "data": {
      "text/plain": [
       "<matplotlib.text.Text at 0xcec86a0>"
      ]
     },
     "execution_count": 51,
     "metadata": {},
     "output_type": "execute_result"
    },
    {
     "data": {
      "image/png": "[encoded data removed]",
      "text/plain": [
       "<matplotlib.figure.Figure at 0xd23de48>"
      ]
     },
     "metadata": {},
     "output_type": "display_data"
    }
   ],
   "source": [
    "plt.plot(xx, y, c='r', linestyle='--')\n",
    "plt.scatter(data['mdot_lb_min'],data['dp_psi'])\n",
    "plt.xlabel('Mass Flow Rate (lb/min)')\n",
    "plt.ylabel('Pressure Drop (psi)')\n",
    "plt.grid(True)\n",
    "plt.title('$\\Delta P$={a}+{B1}$\\cdot m$+{B2}$\\cdot m^2$'.format(a=a,B1=b1,B2=b2))"
   ]
  },
  {
   "cell_type": "markdown",
   "metadata": {},
   "source": [
    "## Step 3: Calculate $K_M$"
   ]
  },
  {
   "cell_type": "markdown",
   "metadata": {},
   "source": [
    "We are going to use Eq 8 and $\\Delta P$ from the previous step to calculate $K_M$. Eq 8 is as follows:\n",
    "$$K_M=\\frac{2\\Delta P}{\\rho\\cdot V^2}-f\\frac{L}{D_H}-\\left(n_{bends}\\cdot\\frac{angle_{bend}}{90.0^{\\circ}}\\cdot K_B\\right)$$"
   ]
  },
  {
   "cell_type": "code",
   "execution_count": 62,
   "metadata": {
    "collapsed": false
   },
   "outputs": [],
   "source": [
    "import math\n",
    "rho = 1000 # Kg/m^3\n",
    "\n",
    "# Calculate tube cross-sectional area\n",
    "Id = .0164338 # m\n",
    "A = pi *(Id/2)**2\n",
    "Dh = Id\n",
    "mu = 1.0 # Cp\n",
    "\n",
    "data_new = data.copy()\n",
    "## Adding velocity term\n",
    "data_new['V'] = (data_new['mdot_lb_min']/2)\n",
    "\n",
    "# Reynolds number\n",
    "data_new['Re'] = rho*data_new['V']*Dh / mu"
   ]
  },
  {
   "cell_type": "code",
   "execution_count": 63,
   "metadata": {
    "collapsed": false
   },
   "outputs": [
    {
     "data": {
      "text/html": [
       "<div>\n",
       "<table border=\"1\" class=\"dataframe\">\n",
       "  <thead>\n",
       "    <tr style=\"text-align: right;\">\n",
       "      <th></th>\n",
       "      <th>mdot_lb_min</th>\n",
       "      <th>dp_psi</th>\n",
       "      <th>V</th>\n",
       "      <th>Re</th>\n",
       "    </tr>\n",
       "  </thead>\n",
       "  <tbody>\n",
       "    <tr>\n",
       "      <th>0</th>\n",
       "      <td>13</td>\n",
       "      <td>0.05</td>\n",
       "      <td>6.5</td>\n",
       "      <td>106.8197</td>\n",
       "    </tr>\n",
       "    <tr>\n",
       "      <th>1</th>\n",
       "      <td>40</td>\n",
       "      <td>0.19</td>\n",
       "      <td>20.0</td>\n",
       "      <td>328.6760</td>\n",
       "    </tr>\n",
       "    <tr>\n",
       "      <th>2</th>\n",
       "      <td>60</td>\n",
       "      <td>0.32</td>\n",
       "      <td>30.0</td>\n",
       "      <td>493.0140</td>\n",
       "    </tr>\n",
       "    <tr>\n",
       "      <th>3</th>\n",
       "      <td>80</td>\n",
       "      <td>0.49</td>\n",
       "      <td>40.0</td>\n",
       "      <td>657.3520</td>\n",
       "    </tr>\n",
       "    <tr>\n",
       "      <th>4</th>\n",
       "      <td>111</td>\n",
       "      <td>0.82</td>\n",
       "      <td>55.5</td>\n",
       "      <td>912.0759</td>\n",
       "    </tr>\n",
       "    <tr>\n",
       "      <th>5</th>\n",
       "      <td>120</td>\n",
       "      <td>0.93</td>\n",
       "      <td>60.0</td>\n",
       "      <td>986.0280</td>\n",
       "    </tr>\n",
       "    <tr>\n",
       "      <th>6</th>\n",
       "      <td>140</td>\n",
       "      <td>1.19</td>\n",
       "      <td>70.0</td>\n",
       "      <td>1150.3660</td>\n",
       "    </tr>\n",
       "    <tr>\n",
       "      <th>7</th>\n",
       "      <td>160</td>\n",
       "      <td>1.48</td>\n",
       "      <td>80.0</td>\n",
       "      <td>1314.7040</td>\n",
       "    </tr>\n",
       "    <tr>\n",
       "      <th>8</th>\n",
       "      <td>180</td>\n",
       "      <td>1.81</td>\n",
       "      <td>90.0</td>\n",
       "      <td>1479.0420</td>\n",
       "    </tr>\n",
       "    <tr>\n",
       "      <th>9</th>\n",
       "      <td>210</td>\n",
       "      <td>2.35</td>\n",
       "      <td>105.0</td>\n",
       "      <td>1725.5490</td>\n",
       "    </tr>\n",
       "    <tr>\n",
       "      <th>10</th>\n",
       "      <td>220</td>\n",
       "      <td>2.55</td>\n",
       "      <td>110.0</td>\n",
       "      <td>1807.7180</td>\n",
       "    </tr>\n",
       "    <tr>\n",
       "      <th>11</th>\n",
       "      <td>240</td>\n",
       "      <td>2.96</td>\n",
       "      <td>120.0</td>\n",
       "      <td>1972.0560</td>\n",
       "    </tr>\n",
       "    <tr>\n",
       "      <th>12</th>\n",
       "      <td>260</td>\n",
       "      <td>3.41</td>\n",
       "      <td>130.0</td>\n",
       "      <td>2136.3940</td>\n",
       "    </tr>\n",
       "    <tr>\n",
       "      <th>13</th>\n",
       "      <td>280</td>\n",
       "      <td>3.89</td>\n",
       "      <td>140.0</td>\n",
       "      <td>2300.7320</td>\n",
       "    </tr>\n",
       "    <tr>\n",
       "      <th>14</th>\n",
       "      <td>309</td>\n",
       "      <td>4.64</td>\n",
       "      <td>154.5</td>\n",
       "      <td>2539.0221</td>\n",
       "    </tr>\n",
       "    <tr>\n",
       "      <th>15</th>\n",
       "      <td>320</td>\n",
       "      <td>4.94</td>\n",
       "      <td>160.0</td>\n",
       "      <td>2629.4080</td>\n",
       "    </tr>\n",
       "    <tr>\n",
       "      <th>16</th>\n",
       "      <td>340</td>\n",
       "      <td>5.51</td>\n",
       "      <td>170.0</td>\n",
       "      <td>2793.7460</td>\n",
       "    </tr>\n",
       "    <tr>\n",
       "      <th>17</th>\n",
       "      <td>360</td>\n",
       "      <td>6.11</td>\n",
       "      <td>180.0</td>\n",
       "      <td>2958.0840</td>\n",
       "    </tr>\n",
       "    <tr>\n",
       "      <th>18</th>\n",
       "      <td>380</td>\n",
       "      <td>6.75</td>\n",
       "      <td>190.0</td>\n",
       "      <td>3122.4220</td>\n",
       "    </tr>\n",
       "  </tbody>\n",
       "</table>\n",
       "</div>"
      ],
      "text/plain": [
       "    mdot_lb_min  dp_psi      V         Re\n",
       "0            13    0.05    6.5   106.8197\n",
       "1            40    0.19   20.0   328.6760\n",
       "2            60    0.32   30.0   493.0140\n",
       "3            80    0.49   40.0   657.3520\n",
       "4           111    0.82   55.5   912.0759\n",
       "5           120    0.93   60.0   986.0280\n",
       "6           140    1.19   70.0  1150.3660\n",
       "7           160    1.48   80.0  1314.7040\n",
       "8           180    1.81   90.0  1479.0420\n",
       "9           210    2.35  105.0  1725.5490\n",
       "10          220    2.55  110.0  1807.7180\n",
       "11          240    2.96  120.0  1972.0560\n",
       "12          260    3.41  130.0  2136.3940\n",
       "13          280    3.89  140.0  2300.7320\n",
       "14          309    4.64  154.5  2539.0221\n",
       "15          320    4.94  160.0  2629.4080\n",
       "16          340    5.51  170.0  2793.7460\n",
       "17          360    6.11  180.0  2958.0840\n",
       "18          380    6.75  190.0  3122.4220"
      ]
     },
     "execution_count": 63,
     "metadata": {},
     "output_type": "execute_result"
    }
   ],
   "source": [
    "data_new"
   ]
  },
  {
   "cell_type": "code",
   "execution_count": null,
   "metadata": {
    "collapsed": true
   },
   "outputs": [],
   "source": []
  }
 ],
 "metadata": {
  "kernelspec": {
   "display_name": "Python 3",
   "language": "python",
   "name": "python3"
  },
  "language_info": {
   "codemirror_mode": {
    "name": "ipython",
    "version": 3
   },
   "file_extension": ".py",
   "mimetype": "text/x-python",
   "name": "python",
   "nbconvert_exporter": "python",
   "pygments_lexer": "ipython3",
   "version": "3.5.2"
  }
 },
 "nbformat": 4,
 "nbformat_minor": 2
}
